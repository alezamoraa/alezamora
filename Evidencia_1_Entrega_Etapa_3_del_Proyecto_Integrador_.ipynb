{
  "nbformat": 4,
  "nbformat_minor": 0,
  "metadata": {
    "colab": {
      "name": "Evidencia 1: Entrega Etapa 3 del Proyecto Integrador .ipynb",
      "provenance": [],
      "collapsed_sections": [],
      "authorship_tag": "ABX9TyPcA7x/7NNqdPd03WYUhffJ",
      "include_colab_link": true
    },
    "kernelspec": {
      "name": "python3",
      "display_name": "Python 3"
    },
    "language_info": {
      "name": "python"
    }
  },
  "cells": [
    {
      "cell_type": "markdown",
      "metadata": {
        "id": "view-in-github",
        "colab_type": "text"
      },
      "source": [
        "<a href=\"https://colab.research.google.com/github/alezamoraa/alezamora/blob/main/Evidencia_1_Entrega_Etapa_3_del_Proyecto_Integrador_.ipynb\" target=\"_parent\"><img src=\"https://colab.research.google.com/assets/colab-badge.svg\" alt=\"Open In Colab\"/></a>"
      ]
    },
    {
      "cell_type": "markdown",
      "source": [
        "####Evidencia 1: Entrega Etapa 3 del Proyecto Integrador\n",
        "\n",
        "Alejandra Zamora Torres\n",
        "\n",
        "A01285626\n",
        "\n",
        "Pensamiento computacional para ingeniería\n",
        "\n",
        "German Dominguez \n",
        "\n",
        "02/02/2022\n",
        "\n",
        "https://colab.research.google.com/drive/1ivp1s90eV8CAV401zV1fGR3lncilCGVt#scrollTo=2PIoso1HpsyI\n",
        "\n",
        "\n"
      ],
      "metadata": {
        "id": "2PIoso1HpsyI"
      }
    },
    {
      "cell_type": "code",
      "execution_count": null,
      "metadata": {
        "colab": {
          "base_uri": "https://localhost:8080/"
        },
        "id": "rdhHuEDfyzlX",
        "outputId": "6f12a906-98b9-4d9f-92ba-683aafeec54f"
      },
      "outputs": [
        {
          "output_type": "execute_result",
          "data": {
            "text/plain": [
              "9251"
            ]
          },
          "metadata": {},
          "execution_count": 4
        }
      ],
      "source": [
        "preguntas = [['1', 'matemáticas', 'Pregunta 1', 'R1', 'R2', 'R3', 'R4', 'RC' ],\n",
        "             ['2', 'lectura', 'Pregunta 2', 'R1', 'R2', 'R3', 'R4', 'RC' ],\n",
        "             ['3', 'ciencias', 'Pregunta 3', 'R1', 'R2', 'R3', 'R4', 'RC' ],\n",
        "             ['4', 'matemáticas', 'Pregunta 4', 'R1', 'R2', 'R3', 'R4', 'RC'],\n",
        "             ['5', 'lectura', 'Pregunta 5', 'R1', 'R2', 'R3', 'R4', 'RC' ],\n",
        "             ['6', 'ciencias', 'Pregunta 6', 'R1', 'R2', 'R3', 'R4', 'RC' ],\n",
        "             ['7', 'matemáticas', 'Pregunta 7', 'R1', 'R2', 'R3', 'R4', 'RC' ],\n",
        "             ['8', 'lectura', 'Pregunta 8', 'R1', 'R2', 'R3', 'R4', 'RC' ],\n",
        "             ['9', 'ciencias', 'Pregunta 9', 'R1', 'R2', 'R3', 'R4', 'RC' ],\n",
        "             ['10', 'matemáticas', 'Pregunta 10', 'R1', 'R2', 'R3', 'R4', 'RC' ],\n",
        "             ['11', 'lectura', 'Pregunta 11', 'R1', 'R2', 'R3', 'R4', 'RC' ],\n",
        "             ['12', 'ciencias', 'Pregunta 12', 'R1', 'R2', 'R3', 'R4', 'RC' ]]\n",
        "\n",
        "preguntas_texto = \" \".join([str(preguntas) for pregunta in preguntas])\n",
        "\n",
        "nombre = \"nombre_archivo.txt\"\n",
        "\n",
        "f = open(nombre, \"w\")\n",
        "\n",
        "f.write(preguntas_texto)"
      ]
    },
    {
      "cell_type": "code",
      "source": [
        "def cargar_archivo(nombre): #lee el archivo de las preguntas para poder ser utilizado durante el uso del programa\n",
        "  def leer_archivo():\n",
        "\n",
        "    global preguntas_texto\n",
        "\n",
        "    preguntas = []\n",
        "\n",
        "    with open(nombre, \"r\") as archivo:  \n",
        "      \n",
        "      contenido = archivo.readlines() \n",
        "\n",
        "      for elemento in contenido: \n",
        "        linea = elemento.split(\",\") \n",
        "        linea[7] = linea[7][:-1] \n",
        "        preguntas.append(linea) \n",
        "    \n",
        "    return preguntas\n",
        "\n",
        "  leer_archivo(nombre)\n"
      ],
      "metadata": {
        "id": "4geILFRKy8S1"
      },
      "execution_count": null,
      "outputs": []
    },
    {
      "cell_type": "code",
      "source": [
        "def guardar_archivo(nombre, lista): #Guarda el archivo actualizado con los datos nuevos\n",
        "\n",
        "  global prom\n",
        "\n",
        "  with open(nombre, \"w\") as archivo: \n",
        "\n",
        "    for pregunta in preguntas: \n",
        "      \n",
        "      pregunta[1] = str(pregunta[1]) \n",
        "      texto = \",\".join(pregunta) \n",
        "      archivo.write(texto + \"\\n\") \n",
        "\n",
        "guardar_archivo(nombre, preguntas)\n"
      ],
      "metadata": {
        "id": "W5tMEKPozAKJ"
      },
      "execution_count": null,
      "outputs": []
    },
    {
      "cell_type": "code",
      "source": [
        "def main():\n",
        "  def menu():\n",
        "\n",
        "    global nombre\n",
        "    f = open(nombre, \"w\")\n",
        "\n",
        "    while True:\n",
        "\n",
        "      opcion = menu()\n",
        "\n",
        "      if opcion == 1:\n",
        "        registrar_pregunta()\n",
        "\n",
        "      elif opcion == 2:\n",
        "        actualizar_pregunta()\n",
        "\n",
        "      elif opcion == 3:\n",
        "        estudiar_area()\n",
        "\n",
        "      elif opcion == 4:\n",
        "        presentar_quiz()\n",
        "\n",
        "      elif opcion == 5:\n",
        "        reportar_calificaciones()\n",
        "\n",
        "      elif opcion == 6:\n",
        "        salir( )\n",
        "        break\n",
        "\n",
        "      else:\n",
        "        print(\"OPCION INCORRECTA\")\n",
        "\n",
        "\n",
        "\n",
        "main() \n",
        "main()"
      ],
      "metadata": {
        "id": "5tBK5Es6zB7k"
      },
      "execution_count": null,
      "outputs": []
    },
    {
      "cell_type": "code",
      "source": [
        "def registrar_pregunta(nombre_archivo):\n",
        "\n",
        "  global nombre\n",
        "\n",
        "  \n",
        "  \n",
        "  print(\"Bienvenido a la opción para registrar preguntas, por favor sigue las instrucciones\")\n",
        "  id_pregunta = input(\"Ingresa el ID de la pregunta: \")\n",
        "  enfoque = input(\"Ingresa el enfoque de la pregunta: Lectura, Matemáticas, Ciencias: \")\n",
        "  pregunta = input(\"Ingresa el texto de la pregunta: \")\n",
        "  respuestas = \"\"\n",
        "\n",
        "  for num in range(4):\n",
        "    respuesta = input(\"Ingresa la respuesta \" + str(num + 1) + \": \")\n",
        "\n",
        "    if num == 3:\n",
        "      respuestas = respuestas + respuesta # string de respuesta 4, no lleva coma\n",
        "    else:\n",
        "      respuestas = respuestas + respuesta + \",\" # string de respuestas 1, 2, 3\n",
        " \n",
        "  respuestas = respuestas.split(\",\") # hacer una lista desde un string, cada elemento es separado por coma\n",
        "  \n",
        "  respuesta1, respuesta2, respuesta3, respuesta4 = respuestas # asignación múltiple de variables de una lista (elemento por elemento)\n",
        "\n",
        "  correcta = input(\"Ingresa la respuesta correcta:\")\n",
        "\n",
        "  pregunta = [id_pregunta, enfoque, pregunta, respuesta1, respuesta2, respuesta3, respuesta4, correcta]\n",
        "  \n",
        "  preguntas.append(pregunta)\n",
        "\n",
        "  guardar_archivo(nombre, preguntas)\n",
        "\n",
        "registrar_pregunta(nombre)"
      ],
      "metadata": {
        "colab": {
          "base_uri": "https://localhost:8080/"
        },
        "id": "ZBb4j5R-zLjx",
        "outputId": "1b4cfffb-5de9-4c49-96af-fb9196c63d17"
      },
      "execution_count": null,
      "outputs": [
        {
          "name": "stdout",
          "output_type": "stream",
          "text": [
            "Bienvenido a la opción para registrar preguntas, por favor sigue las instrucciones\n",
            "Ingresa el ID de la pregunta: 2\n",
            "Ingresa el enfoque de la pregunta: Lectura, Matemáticas, Ciencias: lectura\n",
            "Ingresa el texto de la pregunta: si\n",
            "Ingresa la respuesta 1: si\n",
            "Ingresa la respuesta 2: si\n",
            "Ingresa la respuesta 3: no\n",
            "Ingresa la respuesta 4: si\n",
            "Ingresa la respuesta correcta:no\n"
          ]
        }
      ]
    },
    {
      "cell_type": "code",
      "source": [
        "def menu():\n",
        "\n",
        "  print(\"1. Alta de preguntas de prueba PISA (lectura, matemáticas, ciencias\")\n",
        "  print(\"2. Actualizar preguntas de la prueba PISA (lectura, matemáticas, ciencias\")\n",
        "  print(\"3. Estudiar preguntas de cierta área (lectura, matemáticas, ciencias\")\n",
        "  print(\"4. Presentar un quiz (lectura, matemáticas, ciencias\")\n",
        "  print(\"5. Reporte de calificaciones\")\n",
        "  print(\"6. Salir\")\n",
        "\n",
        "  opcion_menu = int(input(\"Que opcion quiere?\"))\n",
        "\n",
        "  return opcion_menu\n",
        "\n",
        "menu()\n"
      ],
      "metadata": {
        "colab": {
          "base_uri": "https://localhost:8080/"
        },
        "id": "_Uuofy8RzRwV",
        "outputId": "c8340731-2f27-4e41-b7c5-026619d664d4"
      },
      "execution_count": null,
      "outputs": [
        {
          "name": "stdout",
          "output_type": "stream",
          "text": [
            "1. Alta de preguntas de prueba PISA (lectura, matemáticas, ciencias\n",
            "2. Actualizar preguntas de la prueba PISA (lectura, matemáticas, ciencias\n",
            "3. Estudiar preguntas de cierta área (lectura, matemáticas, ciencias\n",
            "4. Presentar un quiz (lectura, matemáticas, ciencias\n",
            "5. Reporte de calificaciones\n",
            "6. Salir\n",
            "Que opcion quiere?2\n"
          ]
        },
        {
          "output_type": "execute_result",
          "data": {
            "text/plain": [
              "2"
            ]
          },
          "metadata": {},
          "execution_count": 18
        }
      ]
    },
    {
      "cell_type": "code",
      "source": [
        "def actualizar_pregunta(nombre_archivo):\n",
        "  \n",
        " \n",
        "    global nombre\n",
        "    global preguntas\n",
        "    global preguntas_nuevas\n",
        "\n",
        "    \n",
        "    \n",
        "    \n",
        "    print(\"Bienvenido a la opción para actualizar preguntas, por favor sigue las instrucciones \\nA continuación se despliega la lista de preguntas guardadas\\n\")\n",
        "\n",
        "    for pregunta in preguntas:\n",
        "      \n",
        "      id_pregunta, enfoque, pregunta, respuesta1, respuesta2, respuesta3, respuesta4, correcta = pregunta # esto (pregunta) es una lista, hacemos asignación múltiple\n",
        "\n",
        "      print(f\"ID de la pregunta: {id_pregunta} \\nEnfoque de la pregunta: {enfoque} \\nPregunta: {pregunta}\")\n",
        "      print(f\"a){respuesta1:<15}b){respuesta2:<15}c){respuesta3:<15}d){respuesta4:<15} \\n\")\n",
        "\n",
        "    id_cambio = input(\"Ingresa el id de la pregunta que quieres cambiar: \")\n",
        "    valor = input(\"Que sector de la pregunta quieres cambiar?(enfoque, pregunta, respuesta1, respuesta2, respuesta3, respuesta4, correcta): \")\n",
        "    cambio = input(\"Ingresa el cambio: \")\n",
        "\n",
        "    for pregunta in preguntas:\n",
        "      \n",
        "      id_pregunta, enfoque, pregunta, respuesta1, respuesta2, respuesta3, respuesta4, correcta = pregunta # esto (pregunta) es una lista, hacemos asignación múltiple\n",
        "      pregunta_lista = [id_pregunta, enfoque, pregunta, respuesta1, respuesta2, respuesta3, respuesta4, correcta]\n",
        "\n",
        "      if id_pregunta == id_cambio: \n",
        "      \n",
        "        if valor == \"enfoque\":\n",
        "          enfoque = cambio \n",
        "\n",
        "        elif valor == \"pregunta\":\n",
        "          pregunta = cambio\n",
        "\n",
        "        elif valor == \"respuesta1\":\n",
        "          respuesta1 = cambio \n",
        "\n",
        "        elif valor == \"respuesta2\":\n",
        "          respuesta2 = cambio\n",
        "\n",
        "        elif valor == \"respuesta3\":\n",
        "          repuesta3 = cambio\n",
        "\n",
        "        elif valor == \"respuesta4\":\n",
        "          respuesta4 = cambio \n",
        "\n",
        "        elif valor == \"correcta\":\n",
        "          correcta = cambio \n",
        "\n",
        "        pregunta_nueva=[ id_pregunta, enfoque, pregunta, respuesta1, respuesta2, respuesta3, respuesta4, correcta]\n",
        "\n",
        "        print(f\"ID de la pregunta: {id_pregunta} \\nEnfoque de la pregunta: {enfoque} \\nPregunta: {pregunta}\")\n",
        "        print(f\"a){respuesta1:<15}b){respuesta2:<15}c){respuesta3:<15}d){respuesta4:<15} \\n\")\n",
        "\n",
        "        respuesta= input(\"¿Está seguro de que quiere actualizar los datos de la pregunta? \")\n",
        "\n",
        "        if respuesta == \"Si\":\n",
        "          preguntas.remove(pregunta_lista)\n",
        "          preguntas_nuevas.append(pregunta_nueva)\n",
        "\n",
        "      else:\n",
        "        pregunta_normal = [id_pregunta, enfoque, pregunta, respuesta1, respuesta2, respuesta3, respuesta4, correcta]\n",
        "        preguntas_nuevas.append(pregunta_normal) \n",
        "        \n",
        "      preguntas = preguntas_nuevas\n",
        "\n",
        "    cargar_archivo(nombre, preguntas)\n",
        "\n",
        "actualizar_pregunta(nombre)\n",
        "\n"
      ],
      "metadata": {
        "colab": {
          "base_uri": "https://localhost:8080/",
          "height": 1000
        },
        "id": "3IAyZXWRzUSP",
        "outputId": "62358b06-22f5-4b70-da12-f5649ea4da02"
      },
      "execution_count": null,
      "outputs": [
        {
          "name": "stdout",
          "output_type": "stream",
          "text": [
            "Bienvenido a la opción para actualizar preguntas, por favor sigue las instrucciones \n",
            "A continuación se despliega la lista de preguntas guardadas\n",
            "\n",
            "ID de la pregunta: 1 \n",
            "Enfoque de la pregunta: matemáticas \n",
            "Pregunta: Pregunta 1\n",
            "a)R1             b)R2             c)R3             d)R4              \n",
            "\n",
            "ID de la pregunta: 2 \n",
            "Enfoque de la pregunta: lectura \n",
            "Pregunta: Pregunta 2\n",
            "a)R1             b)R2             c)R3             d)R4              \n",
            "\n",
            "ID de la pregunta: 3 \n",
            "Enfoque de la pregunta: ciencias \n",
            "Pregunta: Pregunta 3\n",
            "a)R1             b)R2             c)R3             d)R4              \n",
            "\n",
            "ID de la pregunta: 4 \n",
            "Enfoque de la pregunta: matemáticas \n",
            "Pregunta: Pregunta 4\n",
            "a)R1             b)R2             c)R3             d)R4              \n",
            "\n",
            "ID de la pregunta: 5 \n",
            "Enfoque de la pregunta: lectura \n",
            "Pregunta: Pregunta 5\n",
            "a)R1             b)R2             c)R3             d)R4              \n",
            "\n",
            "ID de la pregunta: 6 \n",
            "Enfoque de la pregunta: ciencias \n",
            "Pregunta: Pregunta 6\n",
            "a)R1             b)R2             c)R3             d)R4              \n",
            "\n",
            "ID de la pregunta: 7 \n",
            "Enfoque de la pregunta: matemáticas \n",
            "Pregunta: Pregunta 7\n",
            "a)R1             b)R2             c)R3             d)R4              \n",
            "\n",
            "ID de la pregunta: 8 \n",
            "Enfoque de la pregunta: lectura \n",
            "Pregunta: Pregunta 8\n",
            "a)R1             b)R2             c)R3             d)R4              \n",
            "\n",
            "ID de la pregunta: 9 \n",
            "Enfoque de la pregunta: ciencias \n",
            "Pregunta: Pregunta 9\n",
            "a)R1             b)R2             c)R3             d)R4              \n",
            "\n",
            "ID de la pregunta: 10 \n",
            "Enfoque de la pregunta: matemáticas \n",
            "Pregunta: Pregunta 10\n",
            "a)R1             b)R2             c)R3             d)R4              \n",
            "\n",
            "ID de la pregunta: 11 \n",
            "Enfoque de la pregunta: lectura \n",
            "Pregunta: Pregunta 11\n",
            "a)R1             b)R2             c)R3             d)R4              \n",
            "\n",
            "ID de la pregunta: 12 \n",
            "Enfoque de la pregunta: ciencias \n",
            "Pregunta: Pregunta 12\n",
            "a)R1             b)R2             c)R3             d)R4              \n",
            "\n",
            "ID de la pregunta: 2 \n",
            "Enfoque de la pregunta: lectura \n",
            "Pregunta: si\n",
            "a)si             b)si             c)no             d)si              \n",
            "\n",
            "Ingresa el id de la pregunta que quieres cambiar: 2\n",
            "Que sector de la pregunta quieres cambiar?(enfoque, pregunta, respuesta1, respuesta2, respuesta3, respuesta4, correcta): enfoque\n",
            "Ingresa el cambio: ciencias\n"
          ]
        },
        {
          "output_type": "error",
          "ename": "NameError",
          "evalue": "ignored",
          "traceback": [
            "\u001b[0;31m---------------------------------------------------------------------------\u001b[0m",
            "\u001b[0;31mNameError\u001b[0m                                 Traceback (most recent call last)",
            "\u001b[0;32m<ipython-input-32-1506e9069938>\u001b[0m in \u001b[0;36m<module>\u001b[0;34m()\u001b[0m\n\u001b[1;32m     69\u001b[0m     \u001b[0mcargar_archivo\u001b[0m\u001b[0;34m(\u001b[0m\u001b[0mnombre\u001b[0m\u001b[0;34m,\u001b[0m \u001b[0mpreguntas\u001b[0m\u001b[0;34m)\u001b[0m\u001b[0;34m\u001b[0m\u001b[0;34m\u001b[0m\u001b[0m\n\u001b[1;32m     70\u001b[0m \u001b[0;34m\u001b[0m\u001b[0m\n\u001b[0;32m---> 71\u001b[0;31m \u001b[0mactualizar_pregunta\u001b[0m\u001b[0;34m(\u001b[0m\u001b[0mnombre\u001b[0m\u001b[0;34m)\u001b[0m\u001b[0;34m\u001b[0m\u001b[0;34m\u001b[0m\u001b[0m\n\u001b[0m\u001b[1;32m     72\u001b[0m \u001b[0;34m\u001b[0m\u001b[0m\n",
            "\u001b[0;32m<ipython-input-32-1506e9069938>\u001b[0m in \u001b[0;36mactualizar_pregunta\u001b[0;34m(nombre_archivo)\u001b[0m\n\u001b[1;32m     63\u001b[0m       \u001b[0;32melse\u001b[0m\u001b[0;34m:\u001b[0m\u001b[0;34m\u001b[0m\u001b[0;34m\u001b[0m\u001b[0m\n\u001b[1;32m     64\u001b[0m         \u001b[0mpregunta_normal\u001b[0m \u001b[0;34m=\u001b[0m \u001b[0;34m[\u001b[0m\u001b[0mid_pregunta\u001b[0m\u001b[0;34m,\u001b[0m \u001b[0menfoque\u001b[0m\u001b[0;34m,\u001b[0m \u001b[0mpregunta\u001b[0m\u001b[0;34m,\u001b[0m \u001b[0mrespuesta1\u001b[0m\u001b[0;34m,\u001b[0m \u001b[0mrespuesta2\u001b[0m\u001b[0;34m,\u001b[0m \u001b[0mrespuesta3\u001b[0m\u001b[0;34m,\u001b[0m \u001b[0mrespuesta4\u001b[0m\u001b[0;34m,\u001b[0m \u001b[0mcorrecta\u001b[0m\u001b[0;34m]\u001b[0m\u001b[0;34m\u001b[0m\u001b[0;34m\u001b[0m\u001b[0m\n\u001b[0;32m---> 65\u001b[0;31m         \u001b[0mpreguntas_nuevas\u001b[0m\u001b[0;34m.\u001b[0m\u001b[0mappend\u001b[0m\u001b[0;34m(\u001b[0m\u001b[0mpregunta_normal\u001b[0m\u001b[0;34m)\u001b[0m\u001b[0;34m\u001b[0m\u001b[0;34m\u001b[0m\u001b[0m\n\u001b[0m\u001b[1;32m     66\u001b[0m \u001b[0;34m\u001b[0m\u001b[0m\n\u001b[1;32m     67\u001b[0m       \u001b[0mpreguntas\u001b[0m \u001b[0;34m=\u001b[0m \u001b[0mpreguntas_nuevas\u001b[0m\u001b[0;34m\u001b[0m\u001b[0;34m\u001b[0m\u001b[0m\n",
            "\u001b[0;31mNameError\u001b[0m: name 'preguntas_nuevas' is not defined"
          ]
        }
      ]
    },
    {
      "cell_type": "code",
      "source": [
        "def estudiar_area(nombre_archivo):\n",
        "  def nombre_archivo():\n",
        "\n",
        "    global nombre\n",
        "\n",
        "    cargar_archivo(nombre_archivo)\n",
        "\n",
        "    area = input(\"Que area de enfoque quiere estudiar?: \")\n",
        "    cantidad = int(input(\"Cantidad de preguntas para desplegar:?: \"))\n",
        "\n",
        "    \n",
        "    for pregunta in preguntas:\n",
        "\n",
        "      if cantidad <= 0:\n",
        "        break\n",
        "\n",
        "    else:\n",
        "      id_pregunta, enfoque, pregunta, respuesta1, respuesta2, respuesta3, respuesta4, correcta = pregunta # esto (pregunta) es una lista, hacemos asignación múltiple\n",
        "\n",
        "      if enfoque == area:\n",
        "\n",
        "        print(f\"ID de la pregunta: {id_pregunta} \\nEnfoque de la pregunta: {enfoque} \\nPregunta: {pregunta}\")\n",
        "        print(f\"a){respuesta1:<15}b){respuesta2:<15}c){respuesta3:<15}d){respuesta4:<15} \\n\")\n",
        "        cantidad -= 1\n",
        "\n",
        "  estudiar_area(nombre_archivo)\n",
        "\n",
        "  respuestas_correctas = 0\n",
        "  respuestas_incorrectas = 0\n",
        "  lista_notas = []\n"
      ],
      "metadata": {
        "id": "Z0f8m75Dzjhx"
      },
      "execution_count": null,
      "outputs": []
    },
    {
      "cell_type": "code",
      "source": [
        "def presentar_quiz(nombre_archivo):\n",
        "  import time\n",
        "\n",
        "  global nombre\n",
        "  global preguntas\n",
        "  global respuestas_correctas\n",
        "  global respuestas_incorrectas\n",
        "  global usuarios\n",
        "\n",
        "  cargar_archivo(nombre)\n",
        "\n",
        "  print(\"Bienvenido al Quiz \\nPor favor escribe la respuesta correcta en el cuadro de texto cuándo se indique\")\n",
        "\n",
        "  for num in range(10):\n",
        "    tiempo = 1200\n",
        "    inicio = time.time()\n",
        "\n",
        "      \n",
        "    pregunta = preguntas[num]\n",
        "\n",
        "    id, enfoque, texto_pregunta, respuesta1, respuesta2, respuesta3, respuesta4, correcta = pregunta\n",
        "      \n",
        "    if enfoque == 1:\n",
        "      enfoque = \"Lectura\"\n",
        "    elif enfoque == 2:\n",
        "      enfoque = \"Matemáticas\"\n",
        "    else:\n",
        "      enfoque = \"Lectura\"\n",
        "  \n",
        "    print(f'{texto_pregunta}\\n{respuesta1:<15}{respuesta2:<15}{respuesta3:<15}{respuesta4}\\n')\n",
        "    respuesta = input(\"Escribe la respuesta correcta: \")\n",
        "    if respuesta == correcta:\n",
        "      respuestas_correctas += 1\n",
        "    else:\n",
        "      respuestas_incorrectas += 1\n",
        "      \n",
        "    fin = time.time()\n",
        "\n",
        "    total = round((tiempo - (fin - inicio)) / 60, 2)\n",
        "    print(f\"\\nEl tiempo restante son {total} minutos\\n\")\n",
        "    \n",
        "    calificacion = respuestas_correctas * 10\n",
        "\n",
        "    print(f\"Tu calificación es: {calificacion}\")\n",
        "    lista_notas.append(calificacion)"
      ],
      "metadata": {
        "id": "_A8UpDNcznCL"
      },
      "execution_count": null,
      "outputs": []
    },
    {
      "cell_type": "code",
      "source": [
        "presentar_quiz(nombre)\n",
        "\n",
        "prom = \"\"\n",
        "def reportar_calificaciones(nombre_archivo):\n",
        "\n",
        "  global prom\n",
        "  global respuestas_correctas\n",
        "  global respuestas_incorrectas\n",
        "  global lista_notas\n",
        "\n",
        "  cargar_archivo(nombre_archivo)\n",
        "\n",
        "  usuarios = len(lista_notas)\n",
        "  \n",
        "  suma = 0\n",
        "  for nota in lista_notas:\n",
        "    suma = suma + nota\n",
        "  \n",
        "  promedio = suma / len(lista_notas)\n",
        "\n",
        "  porcentaje_correctas = round(respuestas_correctas / (respuestas_correctas + respuestas_incorrectas) * 100, 2)\n",
        "  porcentaje_incorrectas = round(respuestas_incorrectas / (respuestas_correctas + respuestas_incorrectas) * 100, 2)\n",
        "  \n",
        "  print(f'{\"Total de usuarios\":<30}{usuarios}\\n{\"Promedio de calificaciones\":<30}{promedio}\\n{\"Respuestas correctas\":<30}{porcentaje_correctas}%\\n{\"Respuestas incorrectas\":<30}{porcentaje_incorrectas}%')\n",
        "\n",
        "  prom =(f\"Usuarios: {usuarios} \\nPromedio {promedio} \\nRespuestas Correctas: {porcentaje_correctas} \\nPorcentaje incorrecto: {porcentaje_incorrectas}\")\n",
        "\n",
        "\n",
        "reportar_calificaciones(nombre)"
      ],
      "metadata": {
        "colab": {
          "base_uri": "https://localhost:8080/",
          "height": 346
        },
        "id": "3wJP2IBrzp1z",
        "outputId": "17133611-724d-487e-d6be-b1198f8431bf"
      },
      "execution_count": null,
      "outputs": [
        {
          "output_type": "error",
          "ename": "TypeError",
          "evalue": "ignored",
          "traceback": [
            "\u001b[0;31m---------------------------------------------------------------------------\u001b[0m",
            "\u001b[0;31mTypeError\u001b[0m                                 Traceback (most recent call last)",
            "\u001b[0;32m<ipython-input-30-519ca9b08f4e>\u001b[0m in \u001b[0;36m<module>\u001b[0;34m()\u001b[0m\n\u001b[0;32m----> 1\u001b[0;31m \u001b[0mpresentar_quiz\u001b[0m\u001b[0;34m(\u001b[0m\u001b[0mnombre\u001b[0m\u001b[0;34m)\u001b[0m\u001b[0;34m\u001b[0m\u001b[0;34m\u001b[0m\u001b[0m\n\u001b[0m\u001b[1;32m      2\u001b[0m \u001b[0;34m\u001b[0m\u001b[0m\n\u001b[1;32m      3\u001b[0m \u001b[0mprom\u001b[0m \u001b[0;34m=\u001b[0m \u001b[0;34m\"\"\u001b[0m\u001b[0;34m\u001b[0m\u001b[0;34m\u001b[0m\u001b[0m\n\u001b[1;32m      4\u001b[0m \u001b[0;32mdef\u001b[0m \u001b[0mreportar_calificaciones\u001b[0m\u001b[0;34m(\u001b[0m\u001b[0mnombre_archivo\u001b[0m\u001b[0;34m)\u001b[0m\u001b[0;34m:\u001b[0m\u001b[0;34m\u001b[0m\u001b[0;34m\u001b[0m\u001b[0m\n\u001b[1;32m      5\u001b[0m \u001b[0;34m\u001b[0m\u001b[0m\n",
            "\u001b[0;32m<ipython-input-27-27ada76914be>\u001b[0m in \u001b[0;36mpresentar_quiz\u001b[0;34m(nombre_archivo)\u001b[0m\n\u001b[1;32m      8\u001b[0m   \u001b[0;32mglobal\u001b[0m \u001b[0musuarios\u001b[0m\u001b[0;34m\u001b[0m\u001b[0;34m\u001b[0m\u001b[0m\n\u001b[1;32m      9\u001b[0m \u001b[0;34m\u001b[0m\u001b[0m\n\u001b[0;32m---> 10\u001b[0;31m   \u001b[0mcargar_archivo\u001b[0m\u001b[0;34m(\u001b[0m\u001b[0mnombre\u001b[0m\u001b[0;34m)\u001b[0m\u001b[0;34m\u001b[0m\u001b[0;34m\u001b[0m\u001b[0m\n\u001b[0m\u001b[1;32m     11\u001b[0m \u001b[0;34m\u001b[0m\u001b[0m\n\u001b[1;32m     12\u001b[0m   \u001b[0mprint\u001b[0m\u001b[0;34m(\u001b[0m\u001b[0;34m\"Bienvenido al Quiz \\nPor favor escribe la respuesta correcta en el cuadro de texto cuándo se indique\"\u001b[0m\u001b[0;34m)\u001b[0m\u001b[0;34m\u001b[0m\u001b[0;34m\u001b[0m\u001b[0m\n",
            "\u001b[0;32m<ipython-input-8-0221017f27ea>\u001b[0m in \u001b[0;36mcargar_archivo\u001b[0;34m(nombre)\u001b[0m\n\u001b[1;32m     17\u001b[0m     \u001b[0;32mreturn\u001b[0m \u001b[0mpreguntas\u001b[0m\u001b[0;34m\u001b[0m\u001b[0;34m\u001b[0m\u001b[0m\n\u001b[1;32m     18\u001b[0m \u001b[0;34m\u001b[0m\u001b[0m\n\u001b[0;32m---> 19\u001b[0;31m   \u001b[0mleer_archivo\u001b[0m\u001b[0;34m(\u001b[0m\u001b[0mnombre\u001b[0m\u001b[0;34m)\u001b[0m\u001b[0;34m\u001b[0m\u001b[0;34m\u001b[0m\u001b[0m\n\u001b[0m",
            "\u001b[0;31mTypeError\u001b[0m: leer_archivo() takes 0 positional arguments but 1 was given"
          ]
        }
      ]
    },
    {
      "cell_type": "code",
      "source": [
        "def salir():\n",
        "\n",
        "  print(\"Salida, terminaste, suerte\")"
      ],
      "metadata": {
        "id": "BH25NNU8zsZ0"
      },
      "execution_count": null,
      "outputs": []
    }
  ]
}